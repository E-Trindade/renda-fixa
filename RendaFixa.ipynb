{
 "cells": [
  {
   "cell_type": "code",
   "execution_count": 1,
   "metadata": {},
   "outputs": [],
   "source": [
    "import numpy as np\n",
    "import pandas as pd\n",
    "import matplotlib.pyplot as plt"
   ]
  },
  {
   "cell_type": "code",
   "execution_count": 23,
   "metadata": {},
   "outputs": [
    {
     "data": {
      "text/plain": [
       "2006.4691061699475"
      ]
     },
     "execution_count": 23,
     "metadata": {},
     "output_type": "execute_result"
    }
   ],
   "source": [
    "def get_aliquota_ir(days):\n",
    "    if days < 180: return 0.225\n",
    "    if days < 160: return 0.2\n",
    "    if days < 720: return 0.175\n",
    "    return 0.15\n",
    "\n",
    "def get_aliquota_iof(days):\n",
    "    if days > 29: return 0\n",
    "    return 0.03 + (0.93 / 29) * days\n",
    "\n",
    "class RendaFixa():\n",
    "    def __init__(self, capital_inicial=0.01, rendimento_mensal=0.0, data_aplicacao=None, isento_ir=False, isento_iof=False):\n",
    "        self.capital_inicial = capital_inicial\n",
    "        self.rendimento_mensal = rendimento_mensal\n",
    "        self.data_aplicacao = data_aplicacao\n",
    "        self.isento_ir = isento_ir\n",
    "        self.isento_iof = isento_iof\n",
    "    \n",
    "    def simular(self, meses=None):\n",
    "        valor_bruto = self.capital_inicial * (1 + self.rendimento_mensal) ** meses\n",
    "        \n",
    "        rendimento = valor_bruto - self.capital_inicial\n",
    "        \n",
    "        valor_liquido = valor_bruto\n",
    "        if not self.isento_ir:\n",
    "            valor_liquido -= rendimento * get_aliquota_ir(meses * 30)\n",
    "        if not self.isento_iof:\n",
    "            valor_liquido -= rendimento * get_aliquota_iof(meses * 30)\n",
    "        return valor_liquido\n",
    "\n",
    "r = RendaFixa(capital_inicial=2000, rendimento_mensal=0.00083333333)\n",
    "r.simular(5)"
   ]
  }
 ],
 "metadata": {
  "kernelspec": {
   "display_name": "Python 3",
   "language": "python",
   "name": "python3"
  },
  "language_info": {
   "codemirror_mode": {
    "name": "ipython",
    "version": 3
   },
   "file_extension": ".py",
   "mimetype": "text/x-python",
   "name": "python",
   "nbconvert_exporter": "python",
   "pygments_lexer": "ipython3",
   "version": "3.7.2"
  }
 },
 "nbformat": 4,
 "nbformat_minor": 2
}
